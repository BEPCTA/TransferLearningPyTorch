{
 "cells": [
  {
   "cell_type": "markdown",
   "metadata": {},
   "source": [
    "# Project: Transfer Learning in PyTorch \n",
    "## Part 2. Training the classifier of a pretrained model\n",
    "\n",
    "In this notebook, PyTorch pretrained model with a custom a classifier will be trained to identify 102 different flowers. \n",
    "\n",
    "### Dataset: Flower 102\n",
    "\n",
    "The dataset is the [Oxford 102 collection](https://www.robots.ox.ac.uk/~vgg/data/flowers/102/) of flowers"
   ]
  },
  {
   "cell_type": "code",
   "execution_count": 1,
   "metadata": {},
   "outputs": [],
   "source": [
    "from torchvision import transforms, models, datasets\n",
    "from torch import optim, cuda\n",
    "import torch\n",
    "from torch.utils.data import DataLoader, sampler\n",
    "import torch.nn as nn\n",
    "import numpy as np\n",
    "import pandas as pd\n",
    "import os, glob, math, random\n",
    "from PIL import Image\n",
    "from torchsummary import summary\n",
    "from timeit import default_timer as timer\n",
    "\n",
    "import matplotlib.pyplot as plt\n",
    "%matplotlib inline\n",
    "\n",
    "plt.rcParams['font.size'] = 14\n",
    "#from IPython.core.interactiveshell import InteractiveShell\n",
    "#InteractiveShell.ast_node_interactivity = 'all'\n"
   ]
  },
  {
   "cell_type": "markdown",
   "metadata": {},
   "source": [
    "### Parameters\n",
    "\n",
    "One of the benefits of using PyTorch is that it's easy to move the model or data to CPU, GPU or to multiple GPUs. "
   ]
  },
  {
   "cell_type": "code",
   "execution_count": 2,
   "metadata": {},
   "outputs": [
    {
     "name": "stdout",
     "output_type": "stream",
     "text": [
      "True\n"
     ]
    }
   ],
   "source": [
    "datadir = './flower_data/'\n",
    "traindir = datadir + 'train/'\n",
    "validdir = datadir + 'valid/'\n",
    "testdir = datadir + 'valid/'\n",
    "\n",
    "saved_model = 'model_trained.pth'\n",
    "batch_size = 256\n",
    "train_on_gpu = cuda.is_available()\n",
    "print(train_on_gpu)"
   ]
  },
  {
   "cell_type": "markdown",
   "metadata": {},
   "source": [
    "# Image Preprocessing\n",
    "\n",
    "To prepare the images for our network, we have to resize them to 224 x 224 and normalize each color channel by subtracting a mean value and dividing by a standard deviation. We will also augment our training data in this stage. These operations are done using image `transforms`, which prepare our data for a neural network.\n",
    "\n",
    "### Data Augmentation\n",
    "\n",
    "Because there are a limited number of images in some categories, we can use image augmentation to artificially increase the number of images \"seen\" by the network. This means for training, we randomly resize and crop the images and also flip them horizontally. A different random transformation is applied each epoch (while training), so the network effectively sees many different versions of the same image. All of the data is also converted to Torch `Tensor`s before normalization. The validation and testing data is not augmented but is only resized and normalized. The normalization values are standardized for Imagenet. "
   ]
  },
  {
   "cell_type": "code",
   "execution_count": 3,
   "metadata": {},
   "outputs": [],
   "source": [
    "# Image transformations\n",
    "image_transforms = {\n",
    "    # Train uses data augmentation\n",
    "    'train':\n",
    "    transforms.Compose([\n",
    "        transforms.RandomResizedCrop(size=256, scale=(0.8, 1.0)),\n",
    "        transforms.RandomRotation(degrees=15),\n",
    "        transforms.ColorJitter(),\n",
    "        transforms.RandomHorizontalFlip(),\n",
    "        transforms.CenterCrop(size=224),  # Image net standards\n",
    "        transforms.ToTensor(),\n",
    "        transforms.Normalize([0.485, 0.456, 0.406],\n",
    "                             [0.229, 0.224, 0.225])  # Imagenet standards\n",
    "    ]),\n",
    "    # Validation does not use augmentation\n",
    "    'val':\n",
    "    transforms.Compose([\n",
    "        transforms.Resize(size=256),\n",
    "        transforms.CenterCrop(size=224),\n",
    "        transforms.ToTensor(),\n",
    "        transforms.Normalize([0.485, 0.456, 0.406], [0.229, 0.224, 0.225])\n",
    "    ]),\n",
    "    # Test does not use augmentation\n",
    "    'test':\n",
    "    transforms.Compose([\n",
    "        transforms.Resize(size=256),\n",
    "        transforms.CenterCrop(size=224),\n",
    "        transforms.ToTensor(),\n",
    "        transforms.Normalize([0.485, 0.456, 0.406], [0.229, 0.224, 0.225])\n",
    "    ]),\n",
    "}"
   ]
  },
  {
   "cell_type": "markdown",
   "metadata": {},
   "source": [
    "## Data Iterators\n",
    "\n",
    "To avoid loading all of the data into memory at once, we use training `DataLoaders`. First, we create a dataset object from the image folders, and then we pass these to a `DataLoader`. At training time, the `DataLoader` will load the images from disk, apply the transformations, and yield a batch. To train and validation, we'll iterate through all the batches in the respective `DataLoader`. \n",
    "\n",
    "One crucial aspect is to `shuffle` the data before passing it to the network. This means that the ordering of the image categories changes on each pass through the data (one pass through the data is one training epoch). "
   ]
  },
  {
   "cell_type": "code",
   "execution_count": 4,
   "metadata": {},
   "outputs": [],
   "source": [
    "# Datasets from each folder\n",
    "data = {\n",
    "    'train':\n",
    "    datasets.ImageFolder(root=traindir, transform=image_transforms['train']),\n",
    "    'val':\n",
    "    datasets.ImageFolder(root=validdir, transform=image_transforms['val']),\n",
    "    'test':\n",
    "    datasets.ImageFolder(root=testdir, transform=image_transforms['test'])\n",
    "}\n",
    "\n",
    "# Dataloader iterators\n",
    "dataloaders = {\n",
    "    'train': DataLoader(data['train'], batch_size=batch_size, shuffle=True),\n",
    "    'val': DataLoader(data['val'], batch_size=batch_size, shuffle=True),\n",
    "    'test': DataLoader(data['test'], batch_size=batch_size, shuffle=True)\n",
    "}"
   ]
  },
  {
   "cell_type": "markdown",
   "metadata": {},
   "source": [
    "## The shape of a batch is \n",
    "(batch_size, color_channels, height, width). "
   ]
  },
  {
   "cell_type": "code",
   "execution_count": 5,
   "metadata": {},
   "outputs": [
    {
     "data": {
      "text/plain": [
       "(torch.Size([256, 3, 224, 224]), torch.Size([256]))"
      ]
     },
     "execution_count": 5,
     "metadata": {},
     "output_type": "execute_result"
    }
   ],
   "source": [
    "trainiter = iter(dataloaders['train'])\n",
    "features, labels = next(trainiter)\n",
    "features.shape, labels.shape"
   ]
  },
  {
   "cell_type": "code",
   "execution_count": 6,
   "metadata": {},
   "outputs": [
    {
     "name": "stdout",
     "output_type": "stream",
     "text": [
      "There are 102 different classes.\n"
     ]
    }
   ],
   "source": [
    "n_classes = len(data['train'].classes)\n",
    "print('There are {} different classes.'.format(n_classes))"
   ]
  },
  {
   "cell_type": "markdown",
   "metadata": {},
   "source": [
    "We can iterate through the `DataLoaders` when doing training, validation, and testing. This construction avoids the need to load all the data into memory and also will automatically apply the transformations to each batch. On each epoch, the `Random` transformations will be different so the network will essentially see multiple versions of each training image. "
   ]
  },
  {
   "cell_type": "markdown",
   "metadata": {},
   "source": [
    "# Pre-Trained Models for Image Classification\n",
    "\n",
    "PyTorch has many pretrained models. All of these models have been trained on Imagenet which consists of millions of images across 1000 categories.\n",
    "\n",
    "## Approach\n",
    "\n",
    "The approach for using a pre-trained image recognition model is well-established:\n",
    "\n",
    "1. Load in pre-trained weights from a network trained on a large dataset\n",
    "2. Freeze all the weights in the lower (convolutional) layers\n",
    "    * Layers to freeze can be adjusted depending on similarity of task to large training dataset\n",
    "3. Replace the classifier (fully connected) part of the network with a custom classifier\n",
    "    * Number of outputs must be set equal to the number of classes\n",
    "4. Train only the custom classifier (fully connected) layers for the task\n",
    "    * Optimizer model classifier for smaller dataset\n"
   ]
  },
  {
   "cell_type": "markdown",
   "metadata": {},
   "source": [
    "### Function to Load in Pretrained Model"
   ]
  },
  {
   "cell_type": "code",
   "execution_count": 7,
   "metadata": {},
   "outputs": [
    {
     "name": "stdout",
     "output_type": "stream",
     "text": [
      "----------------------------------------------------------------\n",
      "        Layer (type)               Output Shape         Param #\n",
      "================================================================\n",
      "            Conv2d-1        [256, 64, 112, 112]           9,408\n",
      "       BatchNorm2d-2        [256, 64, 112, 112]             128\n",
      "              ReLU-3        [256, 64, 112, 112]               0\n",
      "         MaxPool2d-4          [256, 64, 56, 56]               0\n",
      "            Conv2d-5          [256, 64, 56, 56]           4,096\n",
      "       BatchNorm2d-6          [256, 64, 56, 56]             128\n",
      "              ReLU-7          [256, 64, 56, 56]               0\n",
      "            Conv2d-8          [256, 64, 56, 56]          36,864\n",
      "       BatchNorm2d-9          [256, 64, 56, 56]             128\n",
      "             ReLU-10          [256, 64, 56, 56]               0\n",
      "           Conv2d-11         [256, 256, 56, 56]          16,384\n",
      "      BatchNorm2d-12         [256, 256, 56, 56]             512\n",
      "           Conv2d-13         [256, 256, 56, 56]          16,384\n",
      "      BatchNorm2d-14         [256, 256, 56, 56]             512\n",
      "             ReLU-15         [256, 256, 56, 56]               0\n",
      "       Bottleneck-16         [256, 256, 56, 56]               0\n",
      "           Conv2d-17          [256, 64, 56, 56]          16,384\n",
      "      BatchNorm2d-18          [256, 64, 56, 56]             128\n",
      "             ReLU-19          [256, 64, 56, 56]               0\n",
      "           Conv2d-20          [256, 64, 56, 56]          36,864\n",
      "      BatchNorm2d-21          [256, 64, 56, 56]             128\n",
      "             ReLU-22          [256, 64, 56, 56]               0\n",
      "           Conv2d-23         [256, 256, 56, 56]          16,384\n",
      "      BatchNorm2d-24         [256, 256, 56, 56]             512\n",
      "             ReLU-25         [256, 256, 56, 56]               0\n",
      "       Bottleneck-26         [256, 256, 56, 56]               0\n",
      "           Conv2d-27          [256, 64, 56, 56]          16,384\n",
      "      BatchNorm2d-28          [256, 64, 56, 56]             128\n",
      "             ReLU-29          [256, 64, 56, 56]               0\n",
      "           Conv2d-30          [256, 64, 56, 56]          36,864\n",
      "      BatchNorm2d-31          [256, 64, 56, 56]             128\n",
      "             ReLU-32          [256, 64, 56, 56]               0\n",
      "           Conv2d-33         [256, 256, 56, 56]          16,384\n",
      "      BatchNorm2d-34         [256, 256, 56, 56]             512\n",
      "             ReLU-35         [256, 256, 56, 56]               0\n",
      "       Bottleneck-36         [256, 256, 56, 56]               0\n",
      "           Conv2d-37         [256, 128, 56, 56]          32,768\n",
      "      BatchNorm2d-38         [256, 128, 56, 56]             256\n",
      "             ReLU-39         [256, 128, 56, 56]               0\n",
      "           Conv2d-40         [256, 128, 28, 28]         147,456\n",
      "      BatchNorm2d-41         [256, 128, 28, 28]             256\n",
      "             ReLU-42         [256, 128, 28, 28]               0\n",
      "           Conv2d-43         [256, 512, 28, 28]          65,536\n",
      "      BatchNorm2d-44         [256, 512, 28, 28]           1,024\n",
      "           Conv2d-45         [256, 512, 28, 28]         131,072\n",
      "      BatchNorm2d-46         [256, 512, 28, 28]           1,024\n",
      "             ReLU-47         [256, 512, 28, 28]               0\n",
      "       Bottleneck-48         [256, 512, 28, 28]               0\n",
      "           Conv2d-49         [256, 128, 28, 28]          65,536\n",
      "      BatchNorm2d-50         [256, 128, 28, 28]             256\n",
      "             ReLU-51         [256, 128, 28, 28]               0\n",
      "           Conv2d-52         [256, 128, 28, 28]         147,456\n",
      "      BatchNorm2d-53         [256, 128, 28, 28]             256\n",
      "             ReLU-54         [256, 128, 28, 28]               0\n",
      "           Conv2d-55         [256, 512, 28, 28]          65,536\n",
      "      BatchNorm2d-56         [256, 512, 28, 28]           1,024\n",
      "             ReLU-57         [256, 512, 28, 28]               0\n",
      "       Bottleneck-58         [256, 512, 28, 28]               0\n",
      "           Conv2d-59         [256, 128, 28, 28]          65,536\n",
      "      BatchNorm2d-60         [256, 128, 28, 28]             256\n",
      "             ReLU-61         [256, 128, 28, 28]               0\n",
      "           Conv2d-62         [256, 128, 28, 28]         147,456\n",
      "      BatchNorm2d-63         [256, 128, 28, 28]             256\n",
      "             ReLU-64         [256, 128, 28, 28]               0\n",
      "           Conv2d-65         [256, 512, 28, 28]          65,536\n",
      "      BatchNorm2d-66         [256, 512, 28, 28]           1,024\n",
      "             ReLU-67         [256, 512, 28, 28]               0\n",
      "       Bottleneck-68         [256, 512, 28, 28]               0\n",
      "           Conv2d-69         [256, 128, 28, 28]          65,536\n",
      "      BatchNorm2d-70         [256, 128, 28, 28]             256\n",
      "             ReLU-71         [256, 128, 28, 28]               0\n",
      "           Conv2d-72         [256, 128, 28, 28]         147,456\n",
      "      BatchNorm2d-73         [256, 128, 28, 28]             256\n",
      "             ReLU-74         [256, 128, 28, 28]               0\n",
      "           Conv2d-75         [256, 512, 28, 28]          65,536\n",
      "      BatchNorm2d-76         [256, 512, 28, 28]           1,024\n",
      "             ReLU-77         [256, 512, 28, 28]               0\n",
      "       Bottleneck-78         [256, 512, 28, 28]               0\n",
      "           Conv2d-79         [256, 256, 28, 28]         131,072\n",
      "      BatchNorm2d-80         [256, 256, 28, 28]             512\n",
      "             ReLU-81         [256, 256, 28, 28]               0\n",
      "           Conv2d-82         [256, 256, 14, 14]         589,824\n",
      "      BatchNorm2d-83         [256, 256, 14, 14]             512\n",
      "             ReLU-84         [256, 256, 14, 14]               0\n",
      "           Conv2d-85        [256, 1024, 14, 14]         262,144\n",
      "      BatchNorm2d-86        [256, 1024, 14, 14]           2,048\n",
      "           Conv2d-87        [256, 1024, 14, 14]         524,288\n",
      "      BatchNorm2d-88        [256, 1024, 14, 14]           2,048\n",
      "             ReLU-89        [256, 1024, 14, 14]               0\n",
      "       Bottleneck-90        [256, 1024, 14, 14]               0\n",
      "           Conv2d-91         [256, 256, 14, 14]         262,144\n",
      "      BatchNorm2d-92         [256, 256, 14, 14]             512\n",
      "             ReLU-93         [256, 256, 14, 14]               0\n",
      "           Conv2d-94         [256, 256, 14, 14]         589,824\n",
      "      BatchNorm2d-95         [256, 256, 14, 14]             512\n",
      "             ReLU-96         [256, 256, 14, 14]               0\n",
      "           Conv2d-97        [256, 1024, 14, 14]         262,144\n",
      "      BatchNorm2d-98        [256, 1024, 14, 14]           2,048\n",
      "             ReLU-99        [256, 1024, 14, 14]               0\n",
      "      Bottleneck-100        [256, 1024, 14, 14]               0\n",
      "          Conv2d-101         [256, 256, 14, 14]         262,144\n",
      "     BatchNorm2d-102         [256, 256, 14, 14]             512\n",
      "            ReLU-103         [256, 256, 14, 14]               0\n",
      "          Conv2d-104         [256, 256, 14, 14]         589,824\n",
      "     BatchNorm2d-105         [256, 256, 14, 14]             512\n",
      "            ReLU-106         [256, 256, 14, 14]               0\n",
      "          Conv2d-107        [256, 1024, 14, 14]         262,144\n",
      "     BatchNorm2d-108        [256, 1024, 14, 14]           2,048\n",
      "            ReLU-109        [256, 1024, 14, 14]               0\n",
      "      Bottleneck-110        [256, 1024, 14, 14]               0\n",
      "          Conv2d-111         [256, 256, 14, 14]         262,144\n",
      "     BatchNorm2d-112         [256, 256, 14, 14]             512\n",
      "            ReLU-113         [256, 256, 14, 14]               0\n",
      "          Conv2d-114         [256, 256, 14, 14]         589,824\n",
      "     BatchNorm2d-115         [256, 256, 14, 14]             512\n",
      "            ReLU-116         [256, 256, 14, 14]               0\n",
      "          Conv2d-117        [256, 1024, 14, 14]         262,144\n",
      "     BatchNorm2d-118        [256, 1024, 14, 14]           2,048\n",
      "            ReLU-119        [256, 1024, 14, 14]               0\n",
      "      Bottleneck-120        [256, 1024, 14, 14]               0\n",
      "          Conv2d-121         [256, 256, 14, 14]         262,144\n",
      "     BatchNorm2d-122         [256, 256, 14, 14]             512\n",
      "            ReLU-123         [256, 256, 14, 14]               0\n",
      "          Conv2d-124         [256, 256, 14, 14]         589,824\n",
      "     BatchNorm2d-125         [256, 256, 14, 14]             512\n",
      "            ReLU-126         [256, 256, 14, 14]               0\n",
      "          Conv2d-127        [256, 1024, 14, 14]         262,144\n",
      "     BatchNorm2d-128        [256, 1024, 14, 14]           2,048\n",
      "            ReLU-129        [256, 1024, 14, 14]               0\n",
      "      Bottleneck-130        [256, 1024, 14, 14]               0\n",
      "          Conv2d-131         [256, 256, 14, 14]         262,144\n",
      "     BatchNorm2d-132         [256, 256, 14, 14]             512\n",
      "            ReLU-133         [256, 256, 14, 14]               0\n",
      "          Conv2d-134         [256, 256, 14, 14]         589,824\n",
      "     BatchNorm2d-135         [256, 256, 14, 14]             512\n",
      "            ReLU-136         [256, 256, 14, 14]               0\n",
      "          Conv2d-137        [256, 1024, 14, 14]         262,144\n",
      "     BatchNorm2d-138        [256, 1024, 14, 14]           2,048\n",
      "            ReLU-139        [256, 1024, 14, 14]               0\n",
      "      Bottleneck-140        [256, 1024, 14, 14]               0\n",
      "          Conv2d-141         [256, 512, 14, 14]         524,288\n",
      "     BatchNorm2d-142         [256, 512, 14, 14]           1,024\n",
      "            ReLU-143         [256, 512, 14, 14]               0\n",
      "          Conv2d-144           [256, 512, 7, 7]       2,359,296\n",
      "     BatchNorm2d-145           [256, 512, 7, 7]           1,024\n",
      "            ReLU-146           [256, 512, 7, 7]               0\n",
      "          Conv2d-147          [256, 2048, 7, 7]       1,048,576\n",
      "     BatchNorm2d-148          [256, 2048, 7, 7]           4,096\n",
      "          Conv2d-149          [256, 2048, 7, 7]       2,097,152\n",
      "     BatchNorm2d-150          [256, 2048, 7, 7]           4,096\n",
      "            ReLU-151          [256, 2048, 7, 7]               0\n",
      "      Bottleneck-152          [256, 2048, 7, 7]               0\n",
      "          Conv2d-153           [256, 512, 7, 7]       1,048,576\n",
      "     BatchNorm2d-154           [256, 512, 7, 7]           1,024\n",
      "            ReLU-155           [256, 512, 7, 7]               0\n",
      "          Conv2d-156           [256, 512, 7, 7]       2,359,296\n",
      "     BatchNorm2d-157           [256, 512, 7, 7]           1,024\n",
      "            ReLU-158           [256, 512, 7, 7]               0\n",
      "          Conv2d-159          [256, 2048, 7, 7]       1,048,576\n",
      "     BatchNorm2d-160          [256, 2048, 7, 7]           4,096\n",
      "            ReLU-161          [256, 2048, 7, 7]               0\n",
      "      Bottleneck-162          [256, 2048, 7, 7]               0\n",
      "          Conv2d-163           [256, 512, 7, 7]       1,048,576\n",
      "     BatchNorm2d-164           [256, 512, 7, 7]           1,024\n",
      "            ReLU-165           [256, 512, 7, 7]               0\n",
      "          Conv2d-166           [256, 512, 7, 7]       2,359,296\n",
      "     BatchNorm2d-167           [256, 512, 7, 7]           1,024\n",
      "            ReLU-168           [256, 512, 7, 7]               0\n",
      "          Conv2d-169          [256, 2048, 7, 7]       1,048,576\n",
      "     BatchNorm2d-170          [256, 2048, 7, 7]           4,096\n",
      "            ReLU-171          [256, 2048, 7, 7]               0\n",
      "      Bottleneck-172          [256, 2048, 7, 7]               0\n",
      "AdaptiveAvgPool2d-173          [256, 2048, 1, 1]               0\n",
      "          Linear-174                 [256, 256]         524,544\n",
      "            ReLU-175                 [256, 256]               0\n",
      "         Dropout-176                 [256, 256]               0\n",
      "          Linear-177                 [256, 102]          26,214\n",
      "      LogSoftmax-178                 [256, 102]               0\n",
      "================================================================\n",
      "Total params: 24,058,790\n",
      "Trainable params: 550,758\n",
      "Non-trainable params: 23,508,032\n",
      "----------------------------------------------------------------\n",
      "Input size (MB): 147.00\n",
      "Forward/backward pass size (MB): 73358.90\n",
      "Params size (MB): 91.78\n",
      "Estimated Total Size (MB): 73597.68\n",
      "----------------------------------------------------------------\n"
     ]
    }
   ],
   "source": [
    "model = models.resnet50(pretrained=True)\n",
    "for param in model.parameters():\n",
    "    param.requires_grad = False\n",
    "n_inputs = model.fc.in_features\n",
    "model.fc = nn.Sequential(nn.Linear(n_inputs, 256), nn.ReLU(), nn.Dropout(0.2),\n",
    "                         nn.Linear(256, n_classes), nn.LogSoftmax(dim=1))\n",
    "\n",
    "if train_on_gpu:\n",
    "    model = model.to('cuda')\n",
    "summary(model, input_size=(3, 224, 224), batch_size=batch_size, device='cuda')"
   ]
  },
  {
   "cell_type": "code",
   "execution_count": 8,
   "metadata": {},
   "outputs": [
    {
     "name": "stdout",
     "output_type": "stream",
     "text": [
      "Layer to train Sequential(\n",
      "  (0): Linear(in_features=2048, out_features=256, bias=True)\n",
      "  (1): ReLU()\n",
      "  (2): Dropout(p=0.2, inplace=False)\n",
      "  (3): Linear(in_features=256, out_features=102, bias=True)\n",
      "  (4): LogSoftmax()\n",
      ")\n"
     ]
    }
   ],
   "source": [
    "print(\"Layer to train\", model.fc)"
   ]
  },
  {
   "cell_type": "markdown",
   "metadata": {},
   "source": [
    "## Mapping of Classes to Indexes\n",
    "\n",
    "To keep track of the predictions made by the model, we create a mapping of classes to indexes and indexes to classes. This will let us know the actual class for a given prediction."
   ]
  },
  {
   "cell_type": "code",
   "execution_count": 18,
   "metadata": {},
   "outputs": [
    {
     "name": "stdout",
     "output_type": "stream",
     "text": [
      "[('21', 'fire lily'), ('3', 'canterbury bells'), ('45', 'bolero deep blue'), ('1', 'pink primrose'), ('34', 'mexican aster'), ('27', 'prince of wales feathers')]\n",
      "[(0, 'pink primrose'), (1, 'globe thistle'), (2, 'blanket flower'), (3, 'trumpet creeper'), (4, 'blackberry lily'), (5, 'snapdragon')]\n",
      "[(0, 'pink primrose'), (1, 'globe thistle'), (2, 'blanket flower'), (3, 'trumpet creeper'), (4, 'blackberry lily'), (5, 'snapdragon'), (6, \"colt's foot\"), (7, 'king protea'), (8, 'spear thistle'), (9, 'yellow iris')]\n"
     ]
    }
   ],
   "source": [
    "import json\n",
    "with open('cat_to_name.json', 'r') as f:\n",
    "    cat_to_name = json.load(f)\n",
    "print(list(cat_to_name.items())[:6])\n",
    "\n",
    "class_to_idx = data['train'].class_to_idx\n",
    "idx_to_name = {idx: cat_to_name[category] for category, \n",
    "               idx in data['train'].class_to_idx.items()}\n",
    "print(list(idx_to_name.items())[:6])\n",
    "\n",
    "model.class_to_idx = data['train'].class_to_idx\n",
    "model.idx_to_class = {idx: cat_to_name[category] for category, \n",
    "               idx in data['train'].class_to_idx.items()}\n",
    "print(list(model.idx_to_class.items())[:10])"
   ]
  },
  {
   "cell_type": "markdown",
   "metadata": {},
   "source": [
    "# Training Loss and Optimizer\n",
    "\n",
    "The loss is the negative log likelihood and the optimizer is the Adam optimizer. The negative log likelihood in PyTorch expects log probabilities so we need to pass it the raw output from the log softmax in our model's final layer. The optimizer is told to optimizer the model parameters (only a few of which require a gradient). \n",
    "\n",
    "* Loss (criterion): keeps track of the loss itself and the gradients of the loss with respect to the model parameters (weights)\n",
    "* Optimizer: updates the parameters (weights) with the gradients "
   ]
  },
  {
   "cell_type": "code",
   "execution_count": 10,
   "metadata": {},
   "outputs": [],
   "source": [
    "criterion = nn.NLLLoss()\n",
    "lr=0.001\n",
    "optimizer = optim.Adam(model.parameters(), lr=lr)\n",
    "#optimizer = optim.Adam(model.classifier.parameters(), lr=lr)"
   ]
  },
  {
   "cell_type": "markdown",
   "metadata": {},
   "source": [
    "Below we can look at the parameters (weights) that will be updated by the optimizer during training."
   ]
  },
  {
   "cell_type": "code",
   "execution_count": 11,
   "metadata": {},
   "outputs": [
    {
     "name": "stdout",
     "output_type": "stream",
     "text": [
      "torch.Size([256, 2048])\n",
      "torch.Size([256])\n",
      "torch.Size([102, 256])\n",
      "torch.Size([102])\n"
     ]
    }
   ],
   "source": [
    "for p in optimizer.param_groups[0]['params']:\n",
    "    if p.requires_grad:\n",
    "        print(p.shape)"
   ]
  },
  {
   "cell_type": "markdown",
   "metadata": {},
   "source": [
    "# Training\n",
    "\n",
    "For training, we iterate through the train `DataLoader`, each time passing one batch through the model. One complete pass through the training data is known as an `epoch`, and we train for a set number of epochs or until early stopping kicks in (more below). After each batch, we calculate the loss (with `criterion(output, targets)`) and then calculate the gradients of the loss with respect to the model parameters with `loss.backward()`. This uses autodifferentiation and backpropagation to calculate the gradients. \n",
    "\n",
    "After calculating the gradients, we call `optimizer.step()` to update the model parameters with the gradients. This is done on every training batch so we are implementing stochastic gradient descent (or rather a version of it with momentum known as Adam). For each batch, we also compute the accuracy for monitoring and after the training loop has completed, we start the validation loop. This will be used to carry out early stopping.\n",
    "\n",
    "\n",
    "## Early Stopping\n",
    "\n",
    "Early stopping halts the training when the validation loss has not decreased for a number of epochs. Each time the validation loss does decrease, the model weights are saved so we can later load in the best model. Early stopping is an effective method to prevent overfitting on the training data. If we continue training, the training loss will continue to decrease, but the validation loss will increase because the model is starting to memorize the training data. Early stopping prevents this from happening, and, if we save the model each epoch when the validation loss decreases, we are able to retrieve the model that does best on the validation data.\n",
    "\n",
    "Early stopping is implemented by iterating through the validation data at the end of each training epoch and calculating the loss. We use the complete validation data every time and record whether or not the loss has decreased. If it has not for a number of epochs, we stop training, retrieve the best weights, and return them. When in the validation loop, we make sure not to update the model parameters. \n",
    "\n",
    "### Training Function\n",
    "\n",
    "The below function trains the network while monitoring a number of different parameters. We train with early stopping on the validation set. There are a number of parameters that I've tried to explain in the doc string. Hopefully, the comments and background make things somewhat understandable! "
   ]
  },
  {
   "cell_type": "code",
   "execution_count": 12,
   "metadata": {},
   "outputs": [],
   "source": [
    "def train(model,\n",
    "          criterion,\n",
    "          optimizer,\n",
    "          train_loader,\n",
    "          valid_loader,\n",
    "          max_epochs_stop=3,\n",
    "          n_epochs=20,\n",
    "          print_every=2):\n",
    "    \n",
    "    \"\"\"Train a PyTorch Model\n",
    "    Params\n",
    "    --------\n",
    "        model (PyTorch model): cnn to train\n",
    "        criterion (PyTorch loss): objective to minimize\n",
    "        optimizer (PyTorch optimizier): optimizer to compute gradients of model parameters\n",
    "        train_loader (PyTorch dataloader): training dataloader to iterate through\n",
    "        valid_loader (PyTorch dataloader): validation dataloader used for early stopping\n",
    "        save_file_name (str ending in '.pt'): file path to save the model state dict\n",
    "        max_epochs_stop (int): maximum number of epochs with no improvement in validation loss for early stopping\n",
    "        n_epochs (int): maximum number of training epochs\n",
    "        print_every (int): frequency of epochs to print training stats\n",
    "\n",
    "    Returns\n",
    "    --------\n",
    "        model (PyTorch model): trained cnn with best weights\n",
    "        history (DataFrame): history of train and validation loss and accuracy\n",
    "    \"\"\"\n",
    "    save_file_name = \"./epochs/epoch\"\n",
    "    # Early stopping intialization\n",
    "    epochs_no_improve = 0\n",
    "    valid_loss_min = np.Inf\n",
    "\n",
    "    valid_max_acc = 0\n",
    "    history = []\n",
    "    \n",
    "    try:\n",
    "        print(\"Model has been trained for: {} epochs.\",format(model.epochs))\n",
    "    except:\n",
    "        model.epochs = 0\n",
    "        print(\"Starting Training from epoch 0\")\n",
    "\n",
    "    overall_start = timer()\n",
    "\n",
    "    # Main loop\n",
    "    for epoch in range(n_epochs):\n",
    "\n",
    "        # keep track of training and validation loss each epoch\n",
    "        train_loss = 0.0\n",
    "        valid_loss = 0.0\n",
    "\n",
    "        train_acc = 0\n",
    "        valid_acc = 0\n",
    "\n",
    "        # Set to training\n",
    "        model.train()\n",
    "        start = timer()\n",
    "\n",
    "        # Training loop\n",
    "        for ii, (data, target) in enumerate(train_loader):\n",
    "            # Tensors to gpu\n",
    "            if train_on_gpu:\n",
    "                data, target = data.cuda(), target.cuda()\n",
    "\n",
    "            # Clear gradients\n",
    "            optimizer.zero_grad()\n",
    "            # Predicted outputs are log probabilities\n",
    "            output = model(data)\n",
    "\n",
    "            # Loss and backpropagation of gradients\n",
    "            loss = criterion(output, target)\n",
    "            loss.backward()\n",
    "\n",
    "            # Update the parameters\n",
    "            optimizer.step()\n",
    "\n",
    "            # Track train loss by multiplying average loss by number of examples in batch\n",
    "            train_loss += loss.item() * data.size(0)\n",
    "\n",
    "            # Calculate accuracy by finding max log probability\n",
    "            _, pred = torch.max(output, dim=1)\n",
    "            correct_tensor = pred.eq(target.data.view_as(pred))\n",
    "            # Need to convert correct tensor from int to float to average\n",
    "            accuracy = torch.mean(correct_tensor.type(torch.FloatTensor))\n",
    "            # Multiply average accuracy times the number of examples in batch\n",
    "            train_acc += accuracy.item() * data.size(0)\n",
    "\n",
    "            # Track training progress\n",
    "            print(\n",
    "                f'Epoch: {epoch}\\t{100 * (ii + 1) / len(train_loader):.2f}% complete. {timer() - start:.2f} seconds elapsed in epoch.',\n",
    "                end='\\r')\n",
    "\n",
    "        # After training loops ends, start validation\n",
    "        else:\n",
    "            model.epochs += 1\n",
    "\n",
    "            # Don't need to keep track of gradients\n",
    "            with torch.no_grad():\n",
    "                # Set to evaluation mode\n",
    "                model.eval()\n",
    "                # Validation loop\n",
    "                for data, target in valid_loader:\n",
    "                    # Tensors to gpu\n",
    "                    if train_on_gpu:\n",
    "                        data, target = data.cuda(), target.cuda()\n",
    "                    # Forward pass\n",
    "                    output = model(data)\n",
    "\n",
    "                    # Validation loss\n",
    "                    loss = criterion(output, target)\n",
    "                    # Multiply average loss times the number of examples in batch\n",
    "                    valid_loss += loss.item() * data.size(0)\n",
    "\n",
    "                    # Calculate validation accuracy\n",
    "                    _, pred = torch.max(output, dim=1)\n",
    "                    correct_tensor = pred.eq(target.data.view_as(pred))\n",
    "                    accuracy = torch.mean(\n",
    "                        correct_tensor.type(torch.FloatTensor))\n",
    "                    # Multiply average accuracy times the number of examples\n",
    "                    valid_acc += accuracy.item() * data.size(0)\n",
    "\n",
    "                # Calculate average losses\n",
    "                train_loss = train_loss / len(train_loader.dataset)\n",
    "                valid_loss = valid_loss / len(valid_loader.dataset)\n",
    "\n",
    "                # Calculate average accuracy\n",
    "                train_acc = train_acc / len(train_loader.dataset)\n",
    "                valid_acc = valid_acc / len(valid_loader.dataset)\n",
    "\n",
    "                history.append([train_loss, valid_loss, train_acc, valid_acc])\n",
    "\n",
    "                # Print training and validation results\n",
    "                if (epoch + 1) % print_every == 0:\n",
    "                    print(\n",
    "                        f'\\nEpoch: {epoch} \\tTraining Loss: {train_loss:.4f}\\tValidation Loss: {valid_loss:.4f}'\n",
    "                    )\n",
    "                    print(\n",
    "                        f'\\t\\tTraining Accuracy: {100 * train_acc:.2f}%\\t Validation Accuracy: {100 * valid_acc:.2f}%'\n",
    "                    )\n",
    "\n",
    "                # Save the model if validation loss decreases\n",
    "                if valid_loss < valid_loss_min:\n",
    "                    save_state = save_file_name+\"_{:03d}.pt\".format(epoch)\n",
    "                    # Save model\n",
    "                    torch.save(model.state_dict(), save_state)\n",
    "                    # Track improvement\n",
    "                    epochs_no_improve = 0\n",
    "                    valid_loss_min = valid_loss\n",
    "                    valid_best_acc = valid_acc\n",
    "                    best_epoch = epoch\n",
    "\n",
    "                # Otherwise increment count of epochs with no improvement\n",
    "                else:\n",
    "                    epochs_no_improve += 1\n",
    "                    # Trigger early stopping\n",
    "                    if epochs_no_improve >= max_epochs_stop and valid_acc < train_acc :\n",
    "                        print(\n",
    "                            f'\\nEarly Stopping! Total epochs: {epoch}. Best epoch: {best_epoch} with loss: {valid_loss_min:.2f} and acc: {100 * valid_acc:.2f}%'\n",
    "                        )\n",
    "                        total_time = timer() - overall_start\n",
    "                        print(\n",
    "                            f'{total_time:.2f} total seconds elapsed. {total_time / (epoch+1):.2f} seconds per epoch.'\n",
    "                        )\n",
    "\n",
    "                        # Load the best state dict\n",
    "                        model.load_state_dict(torch.load(save_state))\n",
    "                        # Attach the optimizer\n",
    "                        model.optimizer = optimizer\n",
    "\n",
    "                        # Format history\n",
    "                        history = pd.DataFrame(\n",
    "                            history,\n",
    "                            columns=['train_loss','valid_loss','train_acc','valid_acc'])\n",
    "                        return model, history\n",
    "\n",
    "    # Attach the optimizer\n",
    "    model.optimizer = optimizer\n",
    "    # Record overall time and print out stats\n",
    "    total_time = timer() - overall_start\n",
    "    print(\n",
    "        f'\\nBest epoch: {best_epoch} with loss: {valid_loss_min:.2f} and acc: {100 * valid_acc:.2f}%'\n",
    "    )\n",
    "    print(\n",
    "        f'{total_time:.2f} total seconds elapsed. {total_time / (epoch):.2f} seconds per epoch.'\n",
    "    )\n",
    "    # Format history\n",
    "    history = pd.DataFrame(\n",
    "        history,\n",
    "        columns=['train_loss', 'valid_loss', 'train_acc', 'valid_acc'])\n",
    "    return model, history"
   ]
  },
  {
   "cell_type": "code",
   "execution_count": 13,
   "metadata": {},
   "outputs": [
    {
     "name": "stdout",
     "output_type": "stream",
     "text": [
      "Starting Training from Scratch.\n",
      "\n",
      "Epoch: 1\t100.00% complete. 66.96 seconds elapsed in epoch.\n",
      "Epoch: 1 \tTraining Loss: 2.2808\tValidation Loss: 1.6427\n",
      "\t\tTraining Accuracy: 52.78%\t Validation Accuracy: 66.63%\n",
      "Epoch: 3\t100.00% complete. 66.99 seconds elapsed in epoch.\n",
      "Epoch: 3 \tTraining Loss: 0.9813\tValidation Loss: 0.7779\n",
      "\t\tTraining Accuracy: 77.24%\t Validation Accuracy: 84.84%\n",
      "Epoch: 5\t100.00% complete. 66.97 seconds elapsed in epoch.\n",
      "Epoch: 5 \tTraining Loss: 0.6172\tValidation Loss: 0.5447\n",
      "\t\tTraining Accuracy: 85.30%\t Validation Accuracy: 88.14%\n",
      "Epoch: 7\t100.00% complete. 66.89 seconds elapsed in epoch.\n",
      "Epoch: 7 \tTraining Loss: 0.4865\tValidation Loss: 0.4561\n",
      "\t\tTraining Accuracy: 87.88%\t Validation Accuracy: 89.49%\n",
      "Epoch: 9\t100.00% complete. 66.86 seconds elapsed in epoch.\n",
      "Epoch: 9 \tTraining Loss: 0.3917\tValidation Loss: 0.3918\n",
      "\t\tTraining Accuracy: 90.22%\t Validation Accuracy: 91.81%\n",
      "Epoch: 11\t100.00% complete. 66.76 seconds elapsed in epoch.\n",
      "Epoch: 11 \tTraining Loss: 0.3340\tValidation Loss: 0.3516\n",
      "\t\tTraining Accuracy: 91.58%\t Validation Accuracy: 92.05%\n",
      "Epoch: 13\t100.00% complete. 66.81 seconds elapsed in epoch.\n",
      "Epoch: 13 \tTraining Loss: 0.2955\tValidation Loss: 0.3552\n",
      "\t\tTraining Accuracy: 92.03%\t Validation Accuracy: 91.08%\n",
      "Epoch: 15\t100.00% complete. 66.79 seconds elapsed in epoch.\n",
      "Epoch: 15 \tTraining Loss: 0.2590\tValidation Loss: 0.3315\n",
      "\t\tTraining Accuracy: 93.01%\t Validation Accuracy: 92.05%\n",
      "Epoch: 17\t100.00% complete. 66.84 seconds elapsed in epoch.\n",
      "Epoch: 17 \tTraining Loss: 0.2425\tValidation Loss: 0.3001\n",
      "\t\tTraining Accuracy: 93.32%\t Validation Accuracy: 91.81%\n",
      "Epoch: 19\t100.00% complete. 66.78 seconds elapsed in epoch.\n",
      "Epoch: 19 \tTraining Loss: 0.2061\tValidation Loss: 0.3009\n",
      "\t\tTraining Accuracy: 94.72%\t Validation Accuracy: 92.30%\n",
      "Epoch: 20\t100.00% complete. 67.19 seconds elapsed in epoch.\n",
      "Early Stopping! Total epochs: 20. Best epoch: 17 with loss: 0.30 and acc: 91.93%\n",
      "1579.32 total seconds elapsed. 75.21 seconds per epoch.\n"
     ]
    }
   ],
   "source": [
    "model, history = train( model, criterion, optimizer, dataloaders['train'], dataloaders['val'], n_epochs=30)"
   ]
  },
  {
   "cell_type": "markdown",
   "metadata": {},
   "source": [
    "# Training Results\n",
    "\n",
    "We can inspect the training progress by looking at the `history`. "
   ]
  },
  {
   "cell_type": "code",
   "execution_count": 14,
   "metadata": {},
   "outputs": [
    {
     "data": {
      "image/png": "[encoded data removed]",
      "text/plain": [
       "<Figure size 576x432 with 1 Axes>"
      ]
     },
     "metadata": {
      "needs_background": "light"
     },
     "output_type": "display_data"
    }
   ],
   "source": [
    "plt.figure(figsize=(8, 6))\n",
    "for c in ['train_loss', 'valid_loss']:\n",
    "    plt.plot(history[c], label=c)\n",
    "plt.legend()\n",
    "plt.xlabel('Epoch')\n",
    "plt.ylabel('Average Negative Log Likelihood')\n",
    "plt.title('Training and Validation Losses');"
   ]
  },
  {
   "cell_type": "markdown",
   "metadata": {},
   "source": [
    "As expected, the training loss decreases continually with epochs. At a certain point however, the validation loss stops decreasing. There is not a massive amount of overfitting, likely because we were using Dropout. With the divergence in losses, there is likely not much more to gain from further training."
   ]
  },
  {
   "cell_type": "code",
   "execution_count": 15,
   "metadata": {},
   "outputs": [
    {
     "data": {
      "text/plain": [
       "Text(0.5, 1.0, 'Training and Validation Accuracy')"
      ]
     },
     "execution_count": 15,
     "metadata": {},
     "output_type": "execute_result"
    },
    {
     "data": {
      "image/png": "[encoded data removed]",
      "text/plain": [
       "<Figure size 576x432 with 1 Axes>"
      ]
     },
     "metadata": {
      "needs_background": "light"
     },
     "output_type": "display_data"
    }
   ],
   "source": [
    "plt.figure(figsize=(8, 6))\n",
    "for c in ['train_acc', 'valid_acc']:\n",
    "    plt.plot(100 * history[c], label=c)\n",
    "plt.legend()\n",
    "plt.xlabel('Epoch')\n",
    "plt.ylabel('Average Accuracy')\n",
    "plt.title('Training and Validation Accuracy')"
   ]
  },
  {
   "cell_type": "markdown",
   "metadata": {},
   "source": [
    "As with the losses, the training accuracy increases (nearly to perfect) while the validation accuracy plateaus. The model is able to achieve above 90% accuracy right away, an indication that the convolution weights learned on Imagenet were able to easily transfer to our dataset."
   ]
  },
  {
   "cell_type": "markdown",
   "metadata": {},
   "source": [
    "## Saving complete model\n",
    "\n",
    "The `train` function saves the best model `state_dict()` which are the weights of the model. To save more information about the model, we use the below function. "
   ]
  },
  {
   "cell_type": "code",
   "execution_count": 27,
   "metadata": {},
   "outputs": [],
   "source": [
    "def save_complete_model(model, path):\n",
    "\n",
    "    checkpoint = {'class_to_idx': model.class_to_idx,\n",
    "                  'idx_to_class': model.idx_to_class,\n",
    "                        'epochs': model.epochs }\n",
    "\n",
    "    # final classifier and the state dictionary\n",
    "    checkpoint['fc'] = model.fc\n",
    "    checkpoint['state_dict'] = model.state_dict()\n",
    "\n",
    "    # optimizer\n",
    "    checkpoint['optimizer'] = model.optimizer\n",
    "    checkpoint['optimizer_state_dict'] = model.optimizer.state_dict()\n",
    "\n",
    "    torch.save(checkpoint, path)\n",
    "    print(\"saving {} to ()\".format(model, path))"
   ]
  },
  {
   "cell_type": "code",
   "execution_count": 28,
   "metadata": {},
   "outputs": [
    {
     "name": "stdout",
     "output_type": "stream",
     "text": [
      "saving ResNet(\n",
      "  (conv1): Conv2d(3, 64, kernel_size=(7, 7), stride=(2, 2), padding=(3, 3), bias=False)\n",
      "  (bn1): BatchNorm2d(64, eps=1e-05, momentum=0.1, affine=True, track_running_stats=True)\n",
      "  (relu): ReLU(inplace=True)\n",
      "  (maxpool): MaxPool2d(kernel_size=3, stride=2, padding=1, dilation=1, ceil_mode=False)\n",
      "  (layer1): Sequential(\n",
      "    (0): Bottleneck(\n",
      "      (conv1): Conv2d(64, 64, kernel_size=(1, 1), stride=(1, 1), bias=False)\n",
      "      (bn1): BatchNorm2d(64, eps=1e-05, momentum=0.1, affine=True, track_running_stats=True)\n",
      "      (conv2): Conv2d(64, 64, kernel_size=(3, 3), stride=(1, 1), padding=(1, 1), bias=False)\n",
      "      (bn2): BatchNorm2d(64, eps=1e-05, momentum=0.1, affine=True, track_running_stats=True)\n",
      "      (conv3): Conv2d(64, 256, kernel_size=(1, 1), stride=(1, 1), bias=False)\n",
      "      (bn3): BatchNorm2d(256, eps=1e-05, momentum=0.1, affine=True, track_running_stats=True)\n",
      "      (relu): ReLU(inplace=True)\n",
      "      (downsample): Sequential(\n",
      "        (0): Conv2d(64, 256, kernel_size=(1, 1), stride=(1, 1), bias=False)\n",
      "        (1): BatchNorm2d(256, eps=1e-05, momentum=0.1, affine=True, track_running_stats=True)\n",
      "      )\n",
      "    )\n",
      "    (1): Bottleneck(\n",
      "      (conv1): Conv2d(256, 64, kernel_size=(1, 1), stride=(1, 1), bias=False)\n",
      "      (bn1): BatchNorm2d(64, eps=1e-05, momentum=0.1, affine=True, track_running_stats=True)\n",
      "      (conv2): Conv2d(64, 64, kernel_size=(3, 3), stride=(1, 1), padding=(1, 1), bias=False)\n",
      "      (bn2): BatchNorm2d(64, eps=1e-05, momentum=0.1, affine=True, track_running_stats=True)\n",
      "      (conv3): Conv2d(64, 256, kernel_size=(1, 1), stride=(1, 1), bias=False)\n",
      "      (bn3): BatchNorm2d(256, eps=1e-05, momentum=0.1, affine=True, track_running_stats=True)\n",
      "      (relu): ReLU(inplace=True)\n",
      "    )\n",
      "    (2): Bottleneck(\n",
      "      (conv1): Conv2d(256, 64, kernel_size=(1, 1), stride=(1, 1), bias=False)\n",
      "      (bn1): BatchNorm2d(64, eps=1e-05, momentum=0.1, affine=True, track_running_stats=True)\n",
      "      (conv2): Conv2d(64, 64, kernel_size=(3, 3), stride=(1, 1), padding=(1, 1), bias=False)\n",
      "      (bn2): BatchNorm2d(64, eps=1e-05, momentum=0.1, affine=True, track_running_stats=True)\n",
      "      (conv3): Conv2d(64, 256, kernel_size=(1, 1), stride=(1, 1), bias=False)\n",
      "      (bn3): BatchNorm2d(256, eps=1e-05, momentum=0.1, affine=True, track_running_stats=True)\n",
      "      (relu): ReLU(inplace=True)\n",
      "    )\n",
      "  )\n",
      "  (layer2): Sequential(\n",
      "    (0): Bottleneck(\n",
      "      (conv1): Conv2d(256, 128, kernel_size=(1, 1), stride=(1, 1), bias=False)\n",
      "      (bn1): BatchNorm2d(128, eps=1e-05, momentum=0.1, affine=True, track_running_stats=True)\n",
      "      (conv2): Conv2d(128, 128, kernel_size=(3, 3), stride=(2, 2), padding=(1, 1), bias=False)\n",
      "      (bn2): BatchNorm2d(128, eps=1e-05, momentum=0.1, affine=True, track_running_stats=True)\n",
      "      (conv3): Conv2d(128, 512, kernel_size=(1, 1), stride=(1, 1), bias=False)\n",
      "      (bn3): BatchNorm2d(512, eps=1e-05, momentum=0.1, affine=True, track_running_stats=True)\n",
      "      (relu): ReLU(inplace=True)\n",
      "      (downsample): Sequential(\n",
      "        (0): Conv2d(256, 512, kernel_size=(1, 1), stride=(2, 2), bias=False)\n",
      "        (1): BatchNorm2d(512, eps=1e-05, momentum=0.1, affine=True, track_running_stats=True)\n",
      "      )\n",
      "    )\n",
      "    (1): Bottleneck(\n",
      "      (conv1): Conv2d(512, 128, kernel_size=(1, 1), stride=(1, 1), bias=False)\n",
      "      (bn1): BatchNorm2d(128, eps=1e-05, momentum=0.1, affine=True, track_running_stats=True)\n",
      "      (conv2): Conv2d(128, 128, kernel_size=(3, 3), stride=(1, 1), padding=(1, 1), bias=False)\n",
      "      (bn2): BatchNorm2d(128, eps=1e-05, momentum=0.1, affine=True, track_running_stats=True)\n",
      "      (conv3): Conv2d(128, 512, kernel_size=(1, 1), stride=(1, 1), bias=False)\n",
      "      (bn3): BatchNorm2d(512, eps=1e-05, momentum=0.1, affine=True, track_running_stats=True)\n",
      "      (relu): ReLU(inplace=True)\n",
      "    )\n",
      "    (2): Bottleneck(\n",
      "      (conv1): Conv2d(512, 128, kernel_size=(1, 1), stride=(1, 1), bias=False)\n",
      "      (bn1): BatchNorm2d(128, eps=1e-05, momentum=0.1, affine=True, track_running_stats=True)\n",
      "      (conv2): Conv2d(128, 128, kernel_size=(3, 3), stride=(1, 1), padding=(1, 1), bias=False)\n",
      "      (bn2): BatchNorm2d(128, eps=1e-05, momentum=0.1, affine=True, track_running_stats=True)\n",
      "      (conv3): Conv2d(128, 512, kernel_size=(1, 1), stride=(1, 1), bias=False)\n",
      "      (bn3): BatchNorm2d(512, eps=1e-05, momentum=0.1, affine=True, track_running_stats=True)\n",
      "      (relu): ReLU(inplace=True)\n",
      "    )\n",
      "    (3): Bottleneck(\n",
      "      (conv1): Conv2d(512, 128, kernel_size=(1, 1), stride=(1, 1), bias=False)\n",
      "      (bn1): BatchNorm2d(128, eps=1e-05, momentum=0.1, affine=True, track_running_stats=True)\n",
      "      (conv2): Conv2d(128, 128, kernel_size=(3, 3), stride=(1, 1), padding=(1, 1), bias=False)\n",
      "      (bn2): BatchNorm2d(128, eps=1e-05, momentum=0.1, affine=True, track_running_stats=True)\n",
      "      (conv3): Conv2d(128, 512, kernel_size=(1, 1), stride=(1, 1), bias=False)\n",
      "      (bn3): BatchNorm2d(512, eps=1e-05, momentum=0.1, affine=True, track_running_stats=True)\n",
      "      (relu): ReLU(inplace=True)\n",
      "    )\n",
      "  )\n",
      "  (layer3): Sequential(\n",
      "    (0): Bottleneck(\n",
      "      (conv1): Conv2d(512, 256, kernel_size=(1, 1), stride=(1, 1), bias=False)\n",
      "      (bn1): BatchNorm2d(256, eps=1e-05, momentum=0.1, affine=True, track_running_stats=True)\n",
      "      (conv2): Conv2d(256, 256, kernel_size=(3, 3), stride=(2, 2), padding=(1, 1), bias=False)\n",
      "      (bn2): BatchNorm2d(256, eps=1e-05, momentum=0.1, affine=True, track_running_stats=True)\n",
      "      (conv3): Conv2d(256, 1024, kernel_size=(1, 1), stride=(1, 1), bias=False)\n",
      "      (bn3): BatchNorm2d(1024, eps=1e-05, momentum=0.1, affine=True, track_running_stats=True)\n",
      "      (relu): ReLU(inplace=True)\n",
      "      (downsample): Sequential(\n",
      "        (0): Conv2d(512, 1024, kernel_size=(1, 1), stride=(2, 2), bias=False)\n",
      "        (1): BatchNorm2d(1024, eps=1e-05, momentum=0.1, affine=True, track_running_stats=True)\n",
      "      )\n",
      "    )\n",
      "    (1): Bottleneck(\n",
      "      (conv1): Conv2d(1024, 256, kernel_size=(1, 1), stride=(1, 1), bias=False)\n",
      "      (bn1): BatchNorm2d(256, eps=1e-05, momentum=0.1, affine=True, track_running_stats=True)\n",
      "      (conv2): Conv2d(256, 256, kernel_size=(3, 3), stride=(1, 1), padding=(1, 1), bias=False)\n",
      "      (bn2): BatchNorm2d(256, eps=1e-05, momentum=0.1, affine=True, track_running_stats=True)\n",
      "      (conv3): Conv2d(256, 1024, kernel_size=(1, 1), stride=(1, 1), bias=False)\n",
      "      (bn3): BatchNorm2d(1024, eps=1e-05, momentum=0.1, affine=True, track_running_stats=True)\n",
      "      (relu): ReLU(inplace=True)\n",
      "    )\n",
      "    (2): Bottleneck(\n",
      "      (conv1): Conv2d(1024, 256, kernel_size=(1, 1), stride=(1, 1), bias=False)\n",
      "      (bn1): BatchNorm2d(256, eps=1e-05, momentum=0.1, affine=True, track_running_stats=True)\n",
      "      (conv2): Conv2d(256, 256, kernel_size=(3, 3), stride=(1, 1), padding=(1, 1), bias=False)\n",
      "      (bn2): BatchNorm2d(256, eps=1e-05, momentum=0.1, affine=True, track_running_stats=True)\n",
      "      (conv3): Conv2d(256, 1024, kernel_size=(1, 1), stride=(1, 1), bias=False)\n",
      "      (bn3): BatchNorm2d(1024, eps=1e-05, momentum=0.1, affine=True, track_running_stats=True)\n",
      "      (relu): ReLU(inplace=True)\n",
      "    )\n",
      "    (3): Bottleneck(\n",
      "      (conv1): Conv2d(1024, 256, kernel_size=(1, 1), stride=(1, 1), bias=False)\n",
      "      (bn1): BatchNorm2d(256, eps=1e-05, momentum=0.1, affine=True, track_running_stats=True)\n",
      "      (conv2): Conv2d(256, 256, kernel_size=(3, 3), stride=(1, 1), padding=(1, 1), bias=False)\n",
      "      (bn2): BatchNorm2d(256, eps=1e-05, momentum=0.1, affine=True, track_running_stats=True)\n",
      "      (conv3): Conv2d(256, 1024, kernel_size=(1, 1), stride=(1, 1), bias=False)\n",
      "      (bn3): BatchNorm2d(1024, eps=1e-05, momentum=0.1, affine=True, track_running_stats=True)\n",
      "      (relu): ReLU(inplace=True)\n",
      "    )\n",
      "    (4): Bottleneck(\n",
      "      (conv1): Conv2d(1024, 256, kernel_size=(1, 1), stride=(1, 1), bias=False)\n",
      "      (bn1): BatchNorm2d(256, eps=1e-05, momentum=0.1, affine=True, track_running_stats=True)\n",
      "      (conv2): Conv2d(256, 256, kernel_size=(3, 3), stride=(1, 1), padding=(1, 1), bias=False)\n",
      "      (bn2): BatchNorm2d(256, eps=1e-05, momentum=0.1, affine=True, track_running_stats=True)\n",
      "      (conv3): Conv2d(256, 1024, kernel_size=(1, 1), stride=(1, 1), bias=False)\n",
      "      (bn3): BatchNorm2d(1024, eps=1e-05, momentum=0.1, affine=True, track_running_stats=True)\n",
      "      (relu): ReLU(inplace=True)\n",
      "    )\n",
      "    (5): Bottleneck(\n",
      "      (conv1): Conv2d(1024, 256, kernel_size=(1, 1), stride=(1, 1), bias=False)\n",
      "      (bn1): BatchNorm2d(256, eps=1e-05, momentum=0.1, affine=True, track_running_stats=True)\n",
      "      (conv2): Conv2d(256, 256, kernel_size=(3, 3), stride=(1, 1), padding=(1, 1), bias=False)\n",
      "      (bn2): BatchNorm2d(256, eps=1e-05, momentum=0.1, affine=True, track_running_stats=True)\n",
      "      (conv3): Conv2d(256, 1024, kernel_size=(1, 1), stride=(1, 1), bias=False)\n",
      "      (bn3): BatchNorm2d(1024, eps=1e-05, momentum=0.1, affine=True, track_running_stats=True)\n",
      "      (relu): ReLU(inplace=True)\n",
      "    )\n",
      "  )\n",
      "  (layer4): Sequential(\n",
      "    (0): Bottleneck(\n",
      "      (conv1): Conv2d(1024, 512, kernel_size=(1, 1), stride=(1, 1), bias=False)\n",
      "      (bn1): BatchNorm2d(512, eps=1e-05, momentum=0.1, affine=True, track_running_stats=True)\n",
      "      (conv2): Conv2d(512, 512, kernel_size=(3, 3), stride=(2, 2), padding=(1, 1), bias=False)\n",
      "      (bn2): BatchNorm2d(512, eps=1e-05, momentum=0.1, affine=True, track_running_stats=True)\n",
      "      (conv3): Conv2d(512, 2048, kernel_size=(1, 1), stride=(1, 1), bias=False)\n",
      "      (bn3): BatchNorm2d(2048, eps=1e-05, momentum=0.1, affine=True, track_running_stats=True)\n",
      "      (relu): ReLU(inplace=True)\n",
      "      (downsample): Sequential(\n",
      "        (0): Conv2d(1024, 2048, kernel_size=(1, 1), stride=(2, 2), bias=False)\n",
      "        (1): BatchNorm2d(2048, eps=1e-05, momentum=0.1, affine=True, track_running_stats=True)\n",
      "      )\n",
      "    )\n",
      "    (1): Bottleneck(\n",
      "      (conv1): Conv2d(2048, 512, kernel_size=(1, 1), stride=(1, 1), bias=False)\n",
      "      (bn1): BatchNorm2d(512, eps=1e-05, momentum=0.1, affine=True, track_running_stats=True)\n",
      "      (conv2): Conv2d(512, 512, kernel_size=(3, 3), stride=(1, 1), padding=(1, 1), bias=False)\n",
      "      (bn2): BatchNorm2d(512, eps=1e-05, momentum=0.1, affine=True, track_running_stats=True)\n",
      "      (conv3): Conv2d(512, 2048, kernel_size=(1, 1), stride=(1, 1), bias=False)\n",
      "      (bn3): BatchNorm2d(2048, eps=1e-05, momentum=0.1, affine=True, track_running_stats=True)\n",
      "      (relu): ReLU(inplace=True)\n",
      "    )\n",
      "    (2): Bottleneck(\n",
      "      (conv1): Conv2d(2048, 512, kernel_size=(1, 1), stride=(1, 1), bias=False)\n",
      "      (bn1): BatchNorm2d(512, eps=1e-05, momentum=0.1, affine=True, track_running_stats=True)\n",
      "      (conv2): Conv2d(512, 512, kernel_size=(3, 3), stride=(1, 1), padding=(1, 1), bias=False)\n",
      "      (bn2): BatchNorm2d(512, eps=1e-05, momentum=0.1, affine=True, track_running_stats=True)\n",
      "      (conv3): Conv2d(512, 2048, kernel_size=(1, 1), stride=(1, 1), bias=False)\n",
      "      (bn3): BatchNorm2d(2048, eps=1e-05, momentum=0.1, affine=True, track_running_stats=True)\n",
      "      (relu): ReLU(inplace=True)\n",
      "    )\n",
      "  )\n",
      "  (avgpool): AdaptiveAvgPool2d(output_size=(1, 1))\n",
      "  (fc): Sequential(\n",
      "    (0): Linear(in_features=2048, out_features=256, bias=True)\n",
      "    (1): ReLU()\n",
      "    (2): Dropout(p=0.2, inplace=False)\n",
      "    (3): Linear(in_features=256, out_features=102, bias=True)\n",
      "    (4): LogSoftmax()\n",
      "  )\n",
      ") to ()\n"
     ]
    }
   ],
   "source": [
    "save_complete_model(model, saved_model)"
   ]
  },
  {
   "cell_type": "markdown",
   "metadata": {},
   "source": [
    "## Loading in a complete model"
   ]
  },
  {
   "cell_type": "code",
   "execution_count": 29,
   "metadata": {},
   "outputs": [],
   "source": [
    "def load_complete_model(path):\n",
    "    checkpoint = torch.load(path)\n",
    "\n",
    "    model = models.resnet50(pretrained=True)\n",
    "    for param in model.parameters():\n",
    "        param.requires_grad = False\n",
    "    model.fc = checkpoint['fc']\n",
    "    model.load_state_dict(checkpoint['state_dict'])\n",
    "\n",
    "    total_params = sum(p.numel() for p in model.parameters())\n",
    "   \n",
    "    if train_on_gpu:\n",
    "        model = model.to('cuda')\n",
    "\n",
    "    # Model basics\n",
    "    model.class_to_idx = checkpoint['class_to_idx']\n",
    "    model.idx_to_class = checkpoint['idx_to_class']\n",
    "    model.epochs = checkpoint['epochs']\n",
    "\n",
    "    # Optimizer\n",
    "    optimizer = checkpoint['optimizer']\n",
    "    optimizer.load_state_dict(checkpoint['optimizer_state_dict'])\n",
    "\n",
    "    return model, optimizer"
   ]
  },
  {
   "cell_type": "markdown",
   "metadata": {},
   "source": [
    "### Verify that the saved model can be loaded back"
   ]
  },
  {
   "cell_type": "code",
   "execution_count": 30,
   "metadata": {},
   "outputs": [],
   "source": [
    "loaded_model, loaded_optimizer = load_complete_model(saved_model)\n",
    "#summary(loaded_model, input_size=(3, 224, 224), batch_size=batch_size)"
   ]
  },
  {
   "cell_type": "markdown",
   "metadata": {},
   "source": [
    "### Continue training (might not work)\n",
    "\n",
    "Sometimes PyTorch doesn't release VRAM, so attempting to continue training will trigger `cuda out off memory` error. In this case, restart kernel, reload the model and continue the training.  "
   ]
  },
  {
   "cell_type": "code",
   "execution_count": null,
   "metadata": {},
   "outputs": [
    {
     "name": "stdout",
     "output_type": "stream",
     "text": [
      "Model has been trained for: 57 epochs.\n",
      "\n",
      "Epoch: 0\t53.85% complete. 37.02 seconds elapsed in epoch.\r"
     ]
    }
   ],
   "source": [
    "model, history = train( loaded_model, criterion, loaded_optimizer, dataloaders['train'],\n",
    "                         dataloaders['val'], max_epochs_stop=10, n_epochs=40)\n",
    "save_complete_model(model, \"continued_train.pth\")"
   ]
  },
  {
   "cell_type": "code",
   "execution_count": null,
   "metadata": {},
   "outputs": [],
   "source": []
  }
 ],
 "metadata": {
  "kernelspec": {
   "display_name": "Python [conda env:tfpytorch] *",
   "language": "python",
   "name": "conda-env-tfpytorch-py"
  },
  "language_info": {
   "codemirror_mode": {
    "name": "ipython",
    "version": 3
   },
   "file_extension": ".py",
   "mimetype": "text/x-python",
   "name": "python",
   "nbconvert_exporter": "python",
   "pygments_lexer": "ipython3",
   "version": "3.7.6"
  },
  "toc": {
   "base_numbering": 1,
   "nav_menu": {},
   "number_sections": true,
   "sideBar": true,
   "skip_h1_title": false,
   "title_cell": "Table of Contents",
   "title_sidebar": "Contents",
   "toc_cell": false,
   "toc_position": {},
   "toc_section_display": true,
   "toc_window_display": false
  },
  "varInspector": {
   "cols": {
    "lenName": 16,
    "lenType": 16,
    "lenVar": 40
   },
   "kernels_config": {
    "python": {
     "delete_cmd_postfix": "",
     "delete_cmd_prefix": "del ",
     "library": "var_list.py",
     "varRefreshCmd": "print(var_dic_list())"
    },
    "r": {
     "delete_cmd_postfix": ") ",
     "delete_cmd_prefix": "rm(",
     "library": "var_list.r",
     "varRefreshCmd": "cat(var_dic_list()) "
    }
   },
   "types_to_exclude": [
    "module",
    "function",
    "builtin_function_or_method",
    "instance",
    "_Feature"
   ],
   "window_display": false
  }
 },
 "nbformat": 4,
 "nbformat_minor": 2
}
